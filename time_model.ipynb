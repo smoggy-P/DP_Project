{
 "cells": [
  {
   "cell_type": "code",
   "execution_count": null,
   "metadata": {},
   "outputs": [],
   "source": [
    "import pandas as pd\n",
    "\n",
    "df = pd.read_csv('data.csv')  # read df from csv file\n",
    "\n",
    "df['Datetime'] = pd.to_datetime(df['Date'] + ' ' + df['Time'], format='%d-%m-%Y %H;%M:%S')\n",
    "df = df.drop(columns=['Date', 'Time'])\n",
    "df.set_index('Datetime', inplace=True)\n",
    "\n",
    "# using month and hour as features\n",
    "df['Month'], df['Day'], df['Hour']  = df.index.month, df.index.day, df.index.hour \n",
    "\n",
    "print(df[:5])"
   ]
  },
  {
   "cell_type": "code",
   "execution_count": null,
   "metadata": {},
   "outputs": [],
   "source": [
    "target_date=['2007-11-09', '2007-11-08']\n",
    "\n",
    "def plot_data(df, target_date):\n",
    "    for tar in target_date:\n",
    "        one_day_data = df.loc[tar]\n",
    "        ax = one_day_data.ewm(alpha=1/50, adjust=True).mean().plot(y='Load', figsize=(10, 3))\n",
    "        one_day_data.plot(y='Load', figsize=(10, 3), ax=ax)\n",
    "\n",
    "plot_data(df, target_date)"
   ]
  },
  {
   "cell_type": "code",
   "execution_count": null,
   "metadata": {},
   "outputs": [],
   "source": [
    "import numpy as np\n",
    "import torch\n",
    "from demand_utils import *\n",
    "\n",
    "device=\"cuda\"\n",
    "\n",
    "# preprocessing\n",
    "preprocess_info = {}\n",
    "for col in ['Month', 'Day', 'Hour']:\n",
    "    preprocess_info[col] = (df[col].mean(), df[col].std())\n",
    "    df[col] = (df[col] - df[col].mean()) / df[col].std()\n",
    "    \n",
    "print(preprocess_info)\n",
    "\n",
    "n_train = int(len(df) * 0.8)\n",
    "train_features = torch.tensor(df.iloc[:n_train, 1:].values, dtype=torch.float32, device=device)\n",
    "test_features = torch.tensor(df.iloc[n_train:, 1:].values, dtype=torch.float32, device=device)\n",
    "train_labels = torch.tensor(df.iloc[:n_train, 0].values.reshape(-1, 1), dtype=torch.float32, device=device)\n",
    "test_labels = torch.tensor(df.iloc[n_train:, 0].values.reshape(-1, 1), dtype=torch.float32, device=device)\n",
    "print(train_features.shape, train_labels.shape)"
   ]
  },
  {
   "cell_type": "code",
   "execution_count": null,
   "metadata": {},
   "outputs": [],
   "source": [
    "demand_dataset = Demand_Dataset(train_features, train_labels)\n",
    "demand_dataloader = DataLoader(demand_dataset, batch_size=36, shuffle=True)\n",
    "demand_model = Demand_Model(device)\n",
    "\n",
    "\n",
    "PATH = './demand_model_weights.pth'\n",
    "demand_model.load_state_dict(torch.load(PATH))\n",
    "\n",
    "# # training\n",
    "# num_epochs = 100\n",
    "# for epoch in range(num_epochs):\n",
    "#     for batch_idx, (features, labels) in enumerate(demand_dataloader):\n",
    "#         loss = demand_model.update(features, labels)\n",
    "#     print(loss)\n",
    "\n",
    "# torch.save(demand_model.state_dict(), 'demand_model_weights.pth')"
   ]
  },
  {
   "cell_type": "code",
   "execution_count": null,
   "metadata": {},
   "outputs": [],
   "source": [
    "# testing\n",
    "import matplotlib.pyplot as plt\n",
    "pred_vals = []\n",
    "real_vals = []\n",
    "\n",
    "start = 2000\n",
    "steps = 10000\n",
    "\n",
    "for i in range(start, start + steps):\n",
    "    pred = demand_model.transition_step(train_features[i])\n",
    "    pred_vals.append(pred.item())\n",
    "    real_vals.append(train_labels[i].item())\n",
    "\n",
    "fig, (ax1, ax2) = plt.subplots(2, 1)\n",
    "fig.set_figheight(30)\n",
    "fig.set_figwidth(50)\n",
    "ax1.plot(np.arange(0, steps), pred_vals, label='Predicted')\n",
    "ax2.plot(np.arange(0, steps), real_vals, label='Actual')"
   ]
  }
 ],
 "metadata": {
  "interpreter": {
   "hash": "31f2aee4e71d21fbe5cf8b01ff0e069b9275f58929596ceb00d14d90e3e16cd6"
  },
  "kernelspec": {
   "display_name": "Python 3.6.9 64-bit",
   "language": "python",
   "name": "python3"
  },
  "language_info": {
   "codemirror_mode": {
    "name": "ipython",
    "version": 3
   },
   "file_extension": ".py",
   "mimetype": "text/x-python",
   "name": "python",
   "nbconvert_exporter": "python",
   "pygments_lexer": "ipython3",
   "version": "3.6.9"
  },
  "orig_nbformat": 4
 },
 "nbformat": 4,
 "nbformat_minor": 2
}
