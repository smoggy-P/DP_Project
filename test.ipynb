{
 "cells": [
  {
   "cell_type": "markdown",
   "metadata": {},
   "source": [
    "# 1. Discretize the state space"
   ]
  },
  {
   "cell_type": "code",
   "execution_count": null,
   "metadata": {},
   "outputs": [],
   "source": [
    "import numpy as np\n",
    "from LSTM import LSTM\n",
    "from System import Plant\n",
    "from Policy import Estimator\n",
    "import warnings\n",
    "from tqdm import tqdm\n",
    "warnings.filterwarnings('ignore')\n",
    "np.random.seed(0)\n",
    "\n",
    "resolution = 0.2\n",
    "c_dis = np.arange(start=0, stop=7.01, step=resolution)\n",
    "p_dis = np.arange(start=0, stop=15.01, step=resolution) \n",
    "l_dis = np.arange(start=0, stop=10.01, step=resolution)\n",
    "u_dis = np.arange(start=-5, stop=4, step=1)\n",
    "\n",
    "def close_idx(list, target):\n",
    "    return np.argmin(np.abs(list - target))\n",
    "\n",
    "def get_idx(p_idx, c_idx, l_idx):\n",
    "    return (p_idx * c_dis.shape[0] * l_dis.shape[0] + \n",
    "            c_idx * l_dis.shape[0]                  +\n",
    "            l_idx)\n",
    "    \n",
    "def get_pcl(idx):\n",
    "    p_idx = idx // (c_dis.shape[0] * l_dis.shape[0])\n",
    "    c_idx = (idx % (c_dis.shape[0] * l_dis.shape[0])) // l_dis.shape[0]\n",
    "    l_idx = idx % l_dis.shape[0]\n",
    "    return [p_dis[p_idx], c_dis[c_idx], l_dis[l_idx]]\n",
    "\n",
    "n_sample = 10\n",
    "\n",
    "n = c_dis.shape[0] * p_dis.shape[0] * l_dis.shape[0]"
   ]
  },
  {
   "cell_type": "markdown",
   "metadata": {},
   "source": [
    "# 2. Generate transition matrix"
   ]
  },
  {
   "cell_type": "code",
   "execution_count": null,
   "metadata": {},
   "outputs": [],
   "source": [
    "P_trans = {}\n",
    "\n",
    "plant = Plant(dt=1/30)\n",
    "estimator = Estimator()\n",
    "std = 0.1 # variation of estimated load\n",
    "\n",
    "for u_idx, u in enumerate(u_dis):\n",
    "    for p_idx, p in enumerate(tqdm(p_dis)):\n",
    "        for c_idx, c in enumerate(c_dis):\n",
    "            for l_idx, l in enumerate(l_dis):\n",
    "                # l_hat = estimator.estimate(l)\n",
    "                real_loads = np.random.normal(loc=l, scale=std, size=n_sample)\n",
    "                for real_l in real_loads:\n",
    "                    state_idx = get_idx(p_idx, c_idx, l_idx)\n",
    "                    plant.reset(c, p, l)\n",
    "                    plant.step(u, real_l)\n",
    "                    hit_state_idx = get_idx(close_idx(p_dis, plant.p),\n",
    "                                            close_idx(c_dis, plant.battery.c),\n",
    "                                            close_idx(l_dis, plant.l))\n",
    "                    if P_trans.__contains__((u_idx, state_idx, hit_state_idx)):\n",
    "                        P_trans[u_idx, state_idx, hit_state_idx] += (1/n_sample)\n",
    "                    else:\n",
    "                        P_trans[u_idx, state_idx, hit_state_idx] = (1/n_sample)\n",
    "\n"
   ]
  },
  {
   "cell_type": "code",
   "execution_count": null,
   "metadata": {},
   "outputs": [],
   "source": [
    "import matplotlib.pyplot as plt\n",
    "sum = 0\n",
    "for j in range(n):\n",
    "    if P_trans.__contains__((0, j, 0)):\n",
    "        sum += P_trans[0, j, 0]\n",
    "\n",
    "print(sum)\n"
   ]
  },
  {
   "cell_type": "markdown",
   "metadata": {},
   "source": [
    "# 3. Dynamic programming"
   ]
  },
  {
   "cell_type": "code",
   "execution_count": null,
   "metadata": {},
   "outputs": [],
   "source": [
    "def dict_to_np(dict, state_idx):\n",
    "    \"\"\"Generate numpy from dictionary, dimension:[u, target_state_idx]\n",
    "\n",
    "    Args:\n",
    "        dict (_type_): _description_\n",
    "        state_idx (_type_): _description_\n",
    "        result: numpy array with dimension [u, target_state_idx]\n",
    "    \"\"\"\n",
    "    result = np.zeros(shape=[u_dis.shape[0],n])\n",
    "    for u_idx in range(u_dis.shape[0]):\n",
    "        for target_state_idx in range(n):\n",
    "            if dict.__contains__((u_idx, state_idx, target_state_idx)):\n",
    "                result[u_idx, target_state_idx] = dict[u_idx, state_idx, target_state_idx]\n",
    "            else:\n",
    "                result[u_idx, target_state_idx] = 0\n",
    "    return result\n",
    "\n",
    "# Initialization of time horizon and cost at time T\n",
    "T = 1000\n",
    "J = np.array([get_pcl(i)[0] for i in range(n)]).reshape(-1,1)\n",
    "Actions = np.zeros(shape=(n, T), dtype=np.int8)\n",
    "\n",
    "probs = []\n",
    "for i in tqdm(range(n)):\n",
    "    probs.append(dict_to_np(P_trans, i))\n",
    "\n",
    "for t in range(999, 998, -1):\n",
    "    J_hat = np.zeros(shape=[n, 1])\n",
    "    for i in tqdm(range(n)):\n",
    "        J_hat[i] = np.min(probs[i] @ J)\n",
    "        Actions[i,t] = np.argmin(probs[i] @ J)\n"
   ]
  }
 ],
 "metadata": {
  "interpreter": {
   "hash": "96e0b108776c78b5cda65fd4c3038f220ed3a169480f8d80518a0bf08276259c"
  },
  "kernelspec": {
   "display_name": "Python 3.9.12 ('robo_base')",
   "language": "python",
   "name": "python3"
  },
  "language_info": {
   "codemirror_mode": {
    "name": "ipython",
    "version": 3
   },
   "file_extension": ".py",
   "mimetype": "text/x-python",
   "name": "python",
   "nbconvert_exporter": "python",
   "pygments_lexer": "ipython3",
   "version": "3.10.4"
  },
  "orig_nbformat": 4
 },
 "nbformat": 4,
 "nbformat_minor": 2
}
