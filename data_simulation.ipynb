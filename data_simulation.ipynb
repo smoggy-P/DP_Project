{
 "cells": [
  {
   "cell_type": "code",
   "execution_count": null,
   "metadata": {},
   "outputs": [],
   "source": [
    "import pandas as pd\n",
    "\n",
    "df = pd.read_csv('data.csv')  # read df from csv file\n",
    "\n",
    "df['Datetime'] = pd.to_datetime(df['Date'] + ' ' + df['Time'], format='%d-%m-%Y %H;%M:%S')\n",
    "df = df.drop(columns=['Date', 'Time'])\n",
    "df.set_index('Datetime', inplace=True)\n",
    "\n",
    "# using month and hour as features\n",
    "df['Month'], df['Day'], df['Hour']  = df.index.month, df.index.day, df.index.hour \n",
    "print(df[:4])"
   ]
  },
  {
   "cell_type": "code",
   "execution_count": null,
   "metadata": {},
   "outputs": [],
   "source": [
    "from System import Plant\n",
    "from Policy import Policy\n",
    "from LSTM import LSTM\n",
    "import matplotlib.pyplot as plt\n",
    "import warnings\n",
    "warnings.filterwarnings('ignore')\n",
    "\n",
    "dt = 1/60\n",
    "plant = Plant(dt)\n",
    "plant_comp = Plant(dt)\n",
    "plant.reset(init_battery=7, init_peak=0, init_load=0)\n",
    "plant_comp.reset(init_battery=7, init_peak=0, init_load=0)\n",
    "policy = Policy()\n",
    "\n",
    "control = []\n",
    "battery = []\n",
    "peak_load_comp = []\n",
    "peak_load = []\n",
    "\n",
    "for data in df[:10000].itertuples():\n",
    "    # Index=Timestamp('2007-10-01 00:00:00'), Load=1.324, Month=10, Day=1, Hour=0\n",
    "    u, l_hat = policy.select_action(plant)\n",
    "\n",
    "\n",
    "    control.append(u)\n",
    "    battery.append(plant_comp.battery.c)\n",
    "    plant.step(u, data[1])\n",
    "\n",
    "    plant_comp.step(-0.03, data[1])\n",
    "\n",
    "    peak_load.append(plant.p)\n",
    "    peak_load_comp.append(plant_comp.p)\n",
    "    \n",
    "print(\"Peak load:\", plant.p, \"Peak load without control:\", plant_comp.p)\n",
    "\n",
    "fig, (ax1, ax2) = plt.subplots(2, 1)\n",
    "ax1.plot(battery)\n",
    "ax2.plot(control)\n",
    "fig.show()"
   ]
  },
  {
   "cell_type": "code",
   "execution_count": null,
   "metadata": {},
   "outputs": [],
   "source": []
  }
 ],
 "metadata": {
  "interpreter": {
   "hash": "96e0b108776c78b5cda65fd4c3038f220ed3a169480f8d80518a0bf08276259c"
  },
  "kernelspec": {
   "display_name": "Python 3.9.12 ('robo_base')",
   "language": "python",
   "name": "python3"
  },
  "language_info": {
   "codemirror_mode": {
    "name": "ipython",
    "version": 3
   },
   "file_extension": ".py",
   "mimetype": "text/x-python",
   "name": "python",
   "nbconvert_exporter": "python",
   "pygments_lexer": "ipython3",
   "version": "3.9.12"
  },
  "orig_nbformat": 4
 },
 "nbformat": 4,
 "nbformat_minor": 2
}
