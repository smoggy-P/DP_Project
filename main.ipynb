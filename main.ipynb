{
 "cells": [
  {
   "cell_type": "markdown",
   "metadata": {},
   "source": [
    "# 1. Discretize the state space"
   ]
  },
  {
   "cell_type": "code",
   "execution_count": null,
   "metadata": {},
   "outputs": [],
   "source": [
    "import numpy as np\n",
    "from LSTM import LSTM\n",
    "from System import Plant\n",
    "from Policy import Estimator\n",
    "import warnings\n",
    "from tqdm import tqdm\n",
    "warnings.filterwarnings('ignore')\n",
    "np.random.seed(0)\n",
    "\n",
    "c_resolution = 0.2 #unit: kW \n",
    "p_resolation = 0.5 #unit: kW\n",
    "l_resolution = 0.5 #unit: kW\n",
    "u_resolution = 1 # TODO\n",
    "dt = 1/30 # hour\n",
    "T  = 360\n",
    "\n",
    "c_dis = np.arange(start=0, stop=7.01, step=c_resolution) # TODO kW`h should has larger resolution\n",
    "p_dis = np.arange(start=0, stop=15.01, step=p_resolation) \n",
    "l_dis = np.arange(start=0, stop=10.01, step=l_resolution)\n",
    "u_dis = np.arange(start=-5, stop=4, step=u_resolution)\n",
    "\n",
    "n = c_dis.shape[0] * p_dis.shape[0] * l_dis.shape[0]\n",
    "print(\"Size of state space: {}\".format(n))\n",
    "print(\"Size of action space: {}\".format(u_dis.shape[0]))"
   ]
  },
  {
   "cell_type": "markdown",
   "metadata": {},
   "source": [
    "# 2. Generate transition matrix"
   ]
  },
  {
   "cell_type": "code",
   "execution_count": null,
   "metadata": {},
   "outputs": [],
   "source": [
    "def close_idx(list, target):\n",
    "    '''\n",
    "    find closest index in list to target\n",
    "    '''\n",
    "    return np.argmin(np.abs(list - target))\n",
    "\n",
    "def get_idx(p_idx, c_idx, l_idx):\n",
    "    '''\n",
    "    encode p_idx, c_idx, l_idx to a single integer\n",
    "    '''\n",
    "    return int(p_idx * c_dis.shape[0] * l_dis.shape[0] + \n",
    "            c_idx * l_dis.shape[0]                  +\n",
    "            l_idx)\n",
    "    \n",
    "def get_pcl(idx):\n",
    "    '''\n",
    "    decode p_idx, c_idx, l_idx from a single integer\n",
    "    '''\n",
    "    p_idx = idx // (c_dis.shape[0] * l_dis.shape[0])\n",
    "    c_idx = (idx % (c_dis.shape[0] * l_dis.shape[0])) // l_dis.shape[0]\n",
    "    l_idx = idx % l_dis.shape[0]\n",
    "    return [p_dis[p_idx], c_dis[c_idx], l_dis[l_idx]]\n",
    "\n",
    "def idx_prob(dis, p):\n",
    "    p_close_idx = close_idx(dis, p)\n",
    "    if p >= dis[-1]:\n",
    "        p_left_idx = dis.shape[0] - 1\n",
    "        p_right_idx = dis.shape[0] - 2\n",
    "        p_left_prob = 1\n",
    "        p_right_prob = 0\n",
    "    elif p <= 0:\n",
    "        p_left_idx = 0\n",
    "        p_right_idx = 1\n",
    "        p_left_prob = 1\n",
    "        p_right_prob = 0\n",
    "    elif p >= dis[p_close_idx]:\n",
    "        p_left_idx = p_close_idx\n",
    "        p_right_idx = p_close_idx + 1\n",
    "        p_right_prob = (p - dis[p_close_idx]) / (dis[p_close_idx + 1] - dis[p_close_idx])\n",
    "        p_left_prob = (dis[p_close_idx + 1] - p) / (dis[p_close_idx + 1] - dis[p_close_idx])\n",
    "    elif p < dis[p_close_idx]:\n",
    "        p_left_idx = p_close_idx - 1\n",
    "        p_right_idx = p_close_idx\n",
    "        p_right_prob = (p - dis[p_close_idx - 1]) / (dis[p_close_idx] - dis[p_close_idx - 1])\n",
    "        p_left_prob = (dis[p_close_idx] - p) / (dis[p_close_idx] - dis[p_close_idx - 1])\n",
    "    return [p_left_idx, p_right_idx, p_left_prob, p_right_prob]\n",
    "\n",
    "def get_convex_combination(p, c, l):\n",
    "    \"\"\"Get convex combination given target state\n",
    "\n",
    "    Returns:\n",
    "        dict: dictionary of hit state and probability\n",
    "    \"\"\"\n",
    "    \n",
    "    hit_state_idx_list = {}\n",
    "    p_idx = np.zeros(2)\n",
    "    p_prob = np.zeros(2)\n",
    "    c_idx = np.zeros(2)\n",
    "    c_prob = np.zeros(2)\n",
    "    l_idx = np.zeros(2)\n",
    "    l_prob = np.zeros(2)\n",
    "    \n",
    "    p_idx[0], p_idx[1], p_prob[0], p_prob[1] = idx_prob(p_dis, p)\n",
    "    c_idx[0], c_idx[1], c_prob[0], c_prob[1] = idx_prob(c_dis, c)\n",
    "    l_idx[0], l_idx[1], l_prob[0], l_prob[1] = idx_prob(l_dis, l)\n",
    "    \n",
    "    for i in range(2):\n",
    "        for j in range(2):\n",
    "            for k in range(2):\n",
    "                hit_idx = get_idx(p_idx[i], c_idx[j], l_idx[k])\n",
    "                hit_prob = p_prob[i] * c_prob[j] * l_prob[k]\n",
    "                hit_state_idx_list[hit_idx] = hit_prob\n",
    "    \n",
    "    return hit_state_idx_list\n",
    "    "
   ]
  },
  {
   "cell_type": "code",
   "execution_count": null,
   "metadata": {},
   "outputs": [],
   "source": [
    "n_sample = 50 #number of monte carlo samples\n",
    "std = 0.1 # variation of estimated load\n",
    "\n",
    "P_trans = {}\n",
    "plant = Plant(dt=dt)\n",
    "estimator = Estimator()\n",
    "\n",
    "for l_idx, l in enumerate(l_dis):\n",
    "    l_hat = estimator.estimate(l)\n",
    "    # l_hat = l\n",
    "    l_hats = np.random.normal(loc=l_hat, scale=std, size=n_sample)\n",
    "    for p_idx, p in enumerate(tqdm(p_dis)):\n",
    "        for c_idx, c in enumerate(c_dis):\n",
    "            for u_idx, u in enumerate(u_dis):\n",
    "                for l_hat in l_hats:\n",
    "                    state_idx = get_idx(p_idx, c_idx, l_idx)\n",
    "                    plant.reset(c, p, l)\n",
    "                    plant.step(u, l_hat)\n",
    "                    \n",
    "                    ## using closest state\n",
    "                    # hit_state_idx = get_idx(close_idx(p_dis, plant.p),\n",
    "                    #                         close_idx(c_dis, plant.battery.c),\n",
    "                    #                         close_idx(l_dis, plant.l))\n",
    "                    # if P_trans.__contains__((state_idx, u_idx, hit_state_idx)):\n",
    "                    #     P_trans[state_idx, u_idx, hit_state_idx] += (1/n_sample)\n",
    "                    # else:\n",
    "                    #     P_trans[state_idx, u_idx, hit_state_idx] = (1/n_sample)\n",
    "                    \n",
    "                    ## using cvx combination\n",
    "                    hit_state_idx_list = get_convex_combination(plant.p, plant.battery.c, plant.l)\n",
    "                    for hit_state_idx, hit_prob in hit_state_idx_list.items():\n",
    "                        if P_trans.__contains__((state_idx, u_idx, hit_state_idx)):\n",
    "                            P_trans[state_idx, u_idx, hit_state_idx] += (1/n_sample) * hit_prob\n",
    "                        else:\n",
    "                            P_trans[state_idx, u_idx, hit_state_idx] = (1/n_sample) * hit_prob"
   ]
  },
  {
   "cell_type": "markdown",
   "metadata": {},
   "source": [
    "Save P_trans dic:"
   ]
  },
  {
   "cell_type": "code",
   "execution_count": null,
   "metadata": {},
   "outputs": [],
   "source": [
    "# import pickle\n",
    "# P_trans_file = open(\"data/P_trans.pkl\", \"wb\")\n",
    "# pickle.dump(P_trans, P_trans_file)\n",
    "# P_trans_file.close()\n",
    "\n",
    "# with open('data/P_trans.pkl', 'rb') as f:\n",
    "#     P_trans = pickle.load(f)"
   ]
  },
  {
   "cell_type": "markdown",
   "metadata": {},
   "source": [
    "Ensure the transition matrix is valid:"
   ]
  },
  {
   "cell_type": "code",
   "execution_count": null,
   "metadata": {},
   "outputs": [],
   "source": [
    "state_idx = 1000\n",
    "u_idx = 5\n",
    "\n",
    "sum = 0\n",
    "for j in range(n):\n",
    "    if P_trans.__contains__((state_idx, u_idx, j)):\n",
    "        sum += P_trans[state_idx, u_idx, j]\n",
    "\n",
    "print(sum)"
   ]
  },
  {
   "cell_type": "markdown",
   "metadata": {},
   "source": [
    "# 3. Dynamic programming"
   ]
  },
  {
   "cell_type": "code",
   "execution_count": null,
   "metadata": {},
   "outputs": [],
   "source": [
    "import torch\n",
    "\n",
    "device = torch.device('cuda' if torch.cuda.is_available() else 'cpu')\n",
    "\n",
    "P_trans_tensor = torch.sparse_coo_tensor(indices=list(zip(*P_trans.keys())), values=list(P_trans.values()), size=(n, u_dis.shape[0], n), device=device, dtype=torch.float)\n",
    "J = torch.tensor([get_pcl(i)[0] for i in range(n)], device=device).float()\n",
    "Actions = torch.zeros(size=(T, n), device=device)\n",
    "\n",
    "for t in range(T-1, 0, -1):\n",
    "    J_update = torch.zeros_like(J, device=device)\n",
    "    for i in tqdm(range(n)): \n",
    "        J_update[i], Actions[t][i] = torch.min(P_trans_tensor[i] @ J, dim=0)\n",
    "    J = J_update\n"
   ]
  },
  {
   "cell_type": "markdown",
   "metadata": {},
   "source": [
    "Save Actions table:"
   ]
  },
  {
   "cell_type": "code",
   "execution_count": null,
   "metadata": {},
   "outputs": [],
   "source": [
    "torch.save(Actions, 'saved_models/Action_table.pt')"
   ]
  },
  {
   "cell_type": "markdown",
   "metadata": {},
   "source": [
    "# 4. Testing with real data"
   ]
  },
  {
   "cell_type": "code",
   "execution_count": null,
   "metadata": {},
   "outputs": [],
   "source": [
    "device = 'cpu'\n",
    "Actions = Actions.to(device=device)"
   ]
  },
  {
   "cell_type": "code",
   "execution_count": null,
   "metadata": {},
   "outputs": [],
   "source": [
    "import pandas as pd\n",
    "\n",
    "df = pd.read_csv('data.csv')  # read df from csv file\n",
    "\n",
    "df['Datetime'] = pd.to_datetime(df['Date'] + ' ' + df['Time'], format='%d-%m-%Y %H;%M:%S')\n",
    "df = df.drop(columns=['Date', 'Time'])\n",
    "df.set_index('Datetime', inplace=True)\n",
    "\n",
    "print(df[:5])"
   ]
  },
  {
   "cell_type": "code",
   "execution_count": null,
   "metadata": {},
   "outputs": [],
   "source": [
    "import matplotlib.pyplot as plt\n",
    "import datetime\n",
    "\n",
    "simu_time = T * dt # hour\n",
    "simu_step = T\n",
    "cur_time = df.index[20000] #2007-10-01 00:00:00 \n",
    "\n",
    "peaks = []\n",
    "loads = []\n",
    "times = []\n",
    "batteries = []\n",
    "\n",
    "env = Plant(dt=dt)\n",
    "p, c, l = env.reset(init_battery=0, init_peak=0, init_load=0)\n",
    "p_pre = p\n",
    "for i in range(simu_step):\n",
    "    # state_idx = get_idx(close_idx(p_dis, p), close_idx(c_dis, c), close_idx(l_dis, l))\n",
    "    # action_idx = int(Actions[i%T][state_idx].item())\n",
    "    \n",
    "    hit_state_list = get_convex_combination(p, c, l)\n",
    "    u = 0\n",
    "    for state_idx, state_prob in hit_state_list.items():\n",
    "        action_idx = int(Actions[i%T][int(state_idx)].item())\n",
    "        u += u_dis[action_idx] * state_prob\n",
    "    \n",
    "    print(\"peak: {}, c: {}, load: {}\".format(p, c, l))\n",
    "    print(\"action: {}\".format(u_dis[action_idx]))\n",
    "    print(\"current time:\", cur_time)\n",
    "    print(\"=============================\")\n",
    "    \n",
    "    real_load = df.loc[cur_time, 'Load']\n",
    "    # p, c, l = env.step(u_dis[action_idx], real_load)\n",
    "    p, c, l = env.step(u, real_load)\n",
    "    if p == p_pre:\n",
    "        pass\n",
    "    \n",
    "    p_pre = p\n",
    "    \n",
    "    cur_time += datetime.timedelta(hours=dt)\n",
    "    times.append(cur_time)\n",
    "    # peaks.append(l + u_dis[action_idx])\n",
    "    peaks.append(p)\n",
    "    loads.append(l)\n",
    "    batteries.append(c)\n",
    "\n",
    "fig, axs = plt.subplots(1, figsize=(16, 8))\n",
    "axs.plot(times, peaks, label='Peak')\n",
    "axs.plot(times, loads, label='Real Load')\n",
    "axs.plot(times, batteries, label='Battery')\n",
    "axs.legend()\n",
    "plt.show()"
   ]
  }
 ],
 "metadata": {
  "kernelspec": {
   "display_name": "Python 3.10.4 ('robo_base')",
   "language": "python",
   "name": "python3"
  },
  "language_info": {
   "codemirror_mode": {
    "name": "ipython",
    "version": 3
   },
   "file_extension": ".py",
   "mimetype": "text/x-python",
   "name": "python",
   "nbconvert_exporter": "python",
   "pygments_lexer": "ipython3",
   "version": "3.10.4"
  },
  "orig_nbformat": 4,
  "vscode": {
   "interpreter": {
    "hash": "96e0b108776c78b5cda65fd4c3038f220ed3a169480f8d80518a0bf08276259c"
   }
  }
 },
 "nbformat": 4,
 "nbformat_minor": 2
}
