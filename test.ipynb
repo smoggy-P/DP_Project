{
 "cells": [
  {
   "cell_type": "markdown",
   "metadata": {},
   "source": [
    "# 1. Discretize the state space"
   ]
  },
  {
   "cell_type": "code",
   "execution_count": 16,
   "metadata": {},
   "outputs": [],
   "source": [
    "import numpy as np\n",
    "from LSTM import LSTM\n",
    "from System import Plant\n",
    "from Policy import Estimator\n",
    "import warnings\n",
    "from tqdm import tqdm\n",
    "warnings.filterwarnings('ignore')\n",
    "np.random.seed(0)\n",
    "\n",
    "resolution = 0.05\n",
    "\n",
    "c_dis = np.arange(start=0, stop=7.01, step=resolution)\n",
    "p_dis = np.arange(start=0, stop=17.01, step=resolution)\n",
    "l_dis = np.arange(start=0, stop=10.01, step=resolution)\n",
    "u_dis = np.arange(start=-5, stop=-4, step=1)\n",
    "\n",
    "def close_idx(list, target):\n",
    "    return np.argmin(np.abs(list - target))\n",
    "\n",
    "def get_idx(p_idx, c_idx, l_idx):\n",
    "    return (p_idx * c_dis.shape[0] * l_dis.shape[0] + \n",
    "            c_idx * l_dis.shape[0]                  +\n",
    "            l_idx)\n",
    "def get_pcl(idx):\n",
    "    p_idx = idx // (c_dis.shape[0] * l_dis.shape[0])\n",
    "    c_idx = (idx % (c_dis.shape[0] * l_dis.shape[0])) // l_dis.shape[0]\n",
    "    l_idx = idx % l_dis.shape[0]\n",
    "    return [p_dis[p_idx], c_dis[c_idx], l_dis[l_idx]]\n",
    "\n",
    "n_sample = 100\n",
    "\n",
    "n = c_dis.shape[0] * p_dis.shape[0] * l_dis.shape[0]"
   ]
  },
  {
   "cell_type": "markdown",
   "metadata": {},
   "source": [
    "# 2. Generate transition matrix"
   ]
  },
  {
   "cell_type": "code",
   "execution_count": 29,
   "metadata": {},
   "outputs": [
    {
     "name": "stderr",
     "output_type": "stream",
     "text": [
      "3it [04:05, 81.87s/it]\n"
     ]
    },
    {
     "ename": "KeyboardInterrupt",
     "evalue": "",
     "output_type": "error",
     "traceback": [
      "\u001b[0;31m---------------------------------------------------------------------------\u001b[0m",
      "\u001b[0;31mKeyboardInterrupt\u001b[0m                         Traceback (most recent call last)",
      "\u001b[0;32m<ipython-input-29-5cb4b23aa26a>\u001b[0m in \u001b[0;36m<module>\u001b[0;34m\u001b[0m\n\u001b[1;32m     17\u001b[0m                     hit_state_idx = get_idx(close_idx(p_dis, plant.p),\n\u001b[1;32m     18\u001b[0m                                             \u001b[0mclose_idx\u001b[0m\u001b[0;34m(\u001b[0m\u001b[0mc_dis\u001b[0m\u001b[0;34m,\u001b[0m \u001b[0mplant\u001b[0m\u001b[0;34m.\u001b[0m\u001b[0mbattery\u001b[0m\u001b[0;34m.\u001b[0m\u001b[0mc\u001b[0m\u001b[0;34m)\u001b[0m\u001b[0;34m,\u001b[0m\u001b[0;34m\u001b[0m\u001b[0;34m\u001b[0m\u001b[0m\n\u001b[0;32m---> 19\u001b[0;31m                                             close_idx(l_dis, plant.l))\n\u001b[0m\u001b[1;32m     20\u001b[0m                     \u001b[0;32mif\u001b[0m \u001b[0mP_trans\u001b[0m\u001b[0;34m.\u001b[0m\u001b[0m__contains__\u001b[0m\u001b[0;34m(\u001b[0m\u001b[0;34m(\u001b[0m\u001b[0mu_idx\u001b[0m\u001b[0;34m,\u001b[0m \u001b[0mstate_idx\u001b[0m\u001b[0;34m,\u001b[0m \u001b[0mhit_state_idx\u001b[0m\u001b[0;34m)\u001b[0m\u001b[0;34m)\u001b[0m\u001b[0;34m:\u001b[0m\u001b[0;34m\u001b[0m\u001b[0;34m\u001b[0m\u001b[0m\n\u001b[1;32m     21\u001b[0m                         \u001b[0mP_trans\u001b[0m\u001b[0;34m[\u001b[0m\u001b[0mu_idx\u001b[0m\u001b[0;34m,\u001b[0m \u001b[0mstate_idx\u001b[0m\u001b[0;34m,\u001b[0m \u001b[0mhit_state_idx\u001b[0m\u001b[0;34m]\u001b[0m \u001b[0;34m+=\u001b[0m \u001b[0;34m(\u001b[0m\u001b[0;36m1\u001b[0m\u001b[0;34m/\u001b[0m\u001b[0mn_sample\u001b[0m\u001b[0;34m)\u001b[0m\u001b[0;34m\u001b[0m\u001b[0;34m\u001b[0m\u001b[0m\n",
      "\u001b[0;32m<ipython-input-16-120ee62ae1eb>\u001b[0m in \u001b[0;36mclose_idx\u001b[0;34m(list, target)\u001b[0m\n\u001b[1;32m     16\u001b[0m \u001b[0;34m\u001b[0m\u001b[0m\n\u001b[1;32m     17\u001b[0m \u001b[0;32mdef\u001b[0m \u001b[0mclose_idx\u001b[0m\u001b[0;34m(\u001b[0m\u001b[0mlist\u001b[0m\u001b[0;34m,\u001b[0m \u001b[0mtarget\u001b[0m\u001b[0;34m)\u001b[0m\u001b[0;34m:\u001b[0m\u001b[0;34m\u001b[0m\u001b[0;34m\u001b[0m\u001b[0m\n\u001b[0;32m---> 18\u001b[0;31m     \u001b[0;32mreturn\u001b[0m \u001b[0mnp\u001b[0m\u001b[0;34m.\u001b[0m\u001b[0margmin\u001b[0m\u001b[0;34m(\u001b[0m\u001b[0mnp\u001b[0m\u001b[0;34m.\u001b[0m\u001b[0mabs\u001b[0m\u001b[0;34m(\u001b[0m\u001b[0mlist\u001b[0m \u001b[0;34m-\u001b[0m \u001b[0mtarget\u001b[0m\u001b[0;34m)\u001b[0m\u001b[0;34m)\u001b[0m\u001b[0;34m\u001b[0m\u001b[0;34m\u001b[0m\u001b[0m\n\u001b[0m\u001b[1;32m     19\u001b[0m \u001b[0;34m\u001b[0m\u001b[0m\n\u001b[1;32m     20\u001b[0m \u001b[0;32mdef\u001b[0m \u001b[0mget_idx\u001b[0m\u001b[0;34m(\u001b[0m\u001b[0mp_idx\u001b[0m\u001b[0;34m,\u001b[0m \u001b[0mc_idx\u001b[0m\u001b[0;34m,\u001b[0m \u001b[0ml_idx\u001b[0m\u001b[0;34m)\u001b[0m\u001b[0;34m:\u001b[0m\u001b[0;34m\u001b[0m\u001b[0;34m\u001b[0m\u001b[0m\n",
      "\u001b[0;32m<__array_function__ internals>\u001b[0m in \u001b[0;36margmin\u001b[0;34m(*args, **kwargs)\u001b[0m\n",
      "\u001b[0;32m~/.local/lib/python3.6/site-packages/numpy/core/fromnumeric.py\u001b[0m in \u001b[0;36margmin\u001b[0;34m(a, axis, out)\u001b[0m\n\u001b[1;32m   1267\u001b[0m \u001b[0;34m\u001b[0m\u001b[0m\n\u001b[1;32m   1268\u001b[0m     \"\"\"\n\u001b[0;32m-> 1269\u001b[0;31m     \u001b[0;32mreturn\u001b[0m \u001b[0m_wrapfunc\u001b[0m\u001b[0;34m(\u001b[0m\u001b[0ma\u001b[0m\u001b[0;34m,\u001b[0m \u001b[0;34m'argmin'\u001b[0m\u001b[0;34m,\u001b[0m \u001b[0maxis\u001b[0m\u001b[0;34m=\u001b[0m\u001b[0maxis\u001b[0m\u001b[0;34m,\u001b[0m \u001b[0mout\u001b[0m\u001b[0;34m=\u001b[0m\u001b[0mout\u001b[0m\u001b[0;34m)\u001b[0m\u001b[0;34m\u001b[0m\u001b[0;34m\u001b[0m\u001b[0m\n\u001b[0m\u001b[1;32m   1270\u001b[0m \u001b[0;34m\u001b[0m\u001b[0m\n\u001b[1;32m   1271\u001b[0m \u001b[0;34m\u001b[0m\u001b[0m\n",
      "\u001b[0;32m~/.local/lib/python3.6/site-packages/numpy/core/fromnumeric.py\u001b[0m in \u001b[0;36m_wrapfunc\u001b[0;34m(obj, method, *args, **kwds)\u001b[0m\n\u001b[1;32m     56\u001b[0m \u001b[0;34m\u001b[0m\u001b[0m\n\u001b[1;32m     57\u001b[0m     \u001b[0;32mtry\u001b[0m\u001b[0;34m:\u001b[0m\u001b[0;34m\u001b[0m\u001b[0;34m\u001b[0m\u001b[0m\n\u001b[0;32m---> 58\u001b[0;31m         \u001b[0;32mreturn\u001b[0m \u001b[0mbound\u001b[0m\u001b[0;34m(\u001b[0m\u001b[0;34m*\u001b[0m\u001b[0margs\u001b[0m\u001b[0;34m,\u001b[0m \u001b[0;34m**\u001b[0m\u001b[0mkwds\u001b[0m\u001b[0;34m)\u001b[0m\u001b[0;34m\u001b[0m\u001b[0;34m\u001b[0m\u001b[0m\n\u001b[0m\u001b[1;32m     59\u001b[0m     \u001b[0;32mexcept\u001b[0m \u001b[0mTypeError\u001b[0m\u001b[0;34m:\u001b[0m\u001b[0;34m\u001b[0m\u001b[0;34m\u001b[0m\u001b[0m\n\u001b[1;32m     60\u001b[0m         \u001b[0;31m# A TypeError occurs if the object does have such a method in its\u001b[0m\u001b[0;34m\u001b[0m\u001b[0;34m\u001b[0m\u001b[0;34m\u001b[0m\u001b[0m\n",
      "\u001b[0;31mKeyboardInterrupt\u001b[0m: "
     ]
    }
   ],
   "source": [
    "P_trans = {}\n",
    "P_trans[0,0,0] = 1\n",
    "\n",
    "plant = Plant(dt=1/60)\n",
    "estimator = Estimator()\n",
    "std = 0.1 # variation of estimated load\n",
    "\n",
    "for u_idx, u in enumerate(u_dis):\n",
    "    for p_idx, p in tqdm(enumerate(p_dis)):\n",
    "        for c_idx, c in enumerate(c_dis):\n",
    "            for l_idx, l in enumerate(l_dis):\n",
    "                real_loads = np.random.normal(loc=estimator.estimate(l), scale=std, size=n_sample)\n",
    "                for real_l in real_loads:\n",
    "                    state_idx = get_idx(p_idx, c_idx, l_idx)\n",
    "                    plant.reset(c, p, l)\n",
    "                    plant.step(u, real_l)\n",
    "                    hit_state_idx = get_idx(close_idx(p_dis, plant.p),\n",
    "                                            close_idx(c_dis, plant.battery.c),\n",
    "                                            close_idx(l_dis, plant.l))\n",
    "                    if P_trans.__contains__((u_idx, state_idx, hit_state_idx)):\n",
    "                        P_trans[u_idx, state_idx, hit_state_idx] += (1/n_sample)\n",
    "                    else:\n",
    "                        P_trans[u_idx, state_idx, hit_state_idx] = (1/n_sample)\n",
    "\n"
   ]
  },
  {
   "cell_type": "code",
   "execution_count": 15,
   "metadata": {},
   "outputs": [
    {
     "name": "stdout",
     "output_type": "stream",
     "text": [
      "[0.0, 0.0, 0.0]\n"
     ]
    }
   ],
   "source": [
    "import matplotlib.pyplot as plt\n",
    "print(get_pcl(np.argmax(P_trans[0,0,:])))\n"
   ]
  },
  {
   "cell_type": "markdown",
   "metadata": {},
   "source": [
    "# 3. Dynamic programming"
   ]
  },
  {
   "cell_type": "code",
   "execution_count": 51,
   "metadata": {},
   "outputs": [],
   "source": [
    "# Initialization of time horizon and cost at time T\n",
    "T = 1000\n",
    "J = np.array([get_pcl(i)[0] for i in range(n)]).reshape(-1,1)\n",
    "\n",
    "for t in tqdm(range(1000, -1, -1)):\n",
    "    J_hat = np.zeros(shape=[n, 1])\n",
    "    for i in range(n):\n",
    "        J_hat[i]\n",
    "    "
   ]
  },
  {
   "cell_type": "code",
   "execution_count": null,
   "metadata": {},
   "outputs": [],
   "source": []
  }
 ],
 "metadata": {
  "interpreter": {
   "hash": "31f2aee4e71d21fbe5cf8b01ff0e069b9275f58929596ceb00d14d90e3e16cd6"
  },
  "kernelspec": {
   "display_name": "Python 3.6.9 64-bit",
   "language": "python",
   "name": "python3"
  },
  "language_info": {
   "codemirror_mode": {
    "name": "ipython",
    "version": 3
   },
   "file_extension": ".py",
   "mimetype": "text/x-python",
   "name": "python",
   "nbconvert_exporter": "python",
   "pygments_lexer": "ipython3",
   "version": "3.6.9"
  },
  "orig_nbformat": 4
 },
 "nbformat": 4,
 "nbformat_minor": 2
}
